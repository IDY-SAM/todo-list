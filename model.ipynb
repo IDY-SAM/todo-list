{
 "cells": [
  {
   "cell_type": "code",
   "execution_count": 2,
   "metadata": {},
   "outputs": [
    {
     "name": "stdout",
     "output_type": "stream",
     "text": [
      "[\"[{'task': 'go to school', 'completed': False}, {'task': 'write report', 'completed': False}, {'task': 'clean the house', 'completed': False}, {'task': 'go for shopping', 'completed': False}]\\r\\n\"]\n"
     ]
    }
   ],
   "source": [
    "file = open(\"todo.txt\", \"r\", newline= '')\n",
    "content = file.readlines()\n",
    "print(content)"
   ]
  }
 ],
 "metadata": {
  "kernelspec": {
   "display_name": "Python 3",
   "language": "python",
   "name": "python3"
  },
  "language_info": {
   "codemirror_mode": {
    "name": "ipython",
    "version": 3
   },
   "file_extension": ".py",
   "mimetype": "text/x-python",
   "name": "python",
   "nbconvert_exporter": "python",
   "pygments_lexer": "ipython3",
   "version": "3.11.4"
  },
  "orig_nbformat": 4
 },
 "nbformat": 4,
 "nbformat_minor": 2
}
